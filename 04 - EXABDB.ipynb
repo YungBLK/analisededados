{
 "metadata": {
  "language_info": {
   "codemirror_mode": {
    "name": "ipython",
    "version": 3
   },
   "file_extension": ".py",
   "mimetype": "text/x-python",
   "name": "python",
   "nbconvert_exporter": "python",
   "pygments_lexer": "ipython3",
   "version": "3.8.5-final"
  },
  "orig_nbformat": 2,
  "kernelspec": {
   "name": "python38564bit584be480fd91417b8ee5b06b92377ac3",
   "display_name": "Python 3.8.5 64-bit"
  }
 },
 "nbformat": 4,
 "nbformat_minor": 2,
 "cells": [
  {
   "cell_type": "markdown",
   "metadata": {},
   "source": [
    "# Criar tabela Categoria"
   ]
  },
  {
   "cell_type": "code",
   "execution_count": 42,
   "metadata": {},
   "outputs": [],
   "source": [
    "import pyodbc"
   ]
  },
  {
   "cell_type": "code",
   "execution_count": 43,
   "metadata": {},
   "outputs": [],
   "source": [
    "class connectionDB():\n",
    "    def connection(self):\n",
    "      return pyodbc.connect (driver='{ODBC Driver 17 for SQL Server}', server='localhost', pwd='dp7cm6bkxt2', uid='SA', database='empresa')\n",
    "\n",
    "bd = connectionDB ()\n",
    "establishedConnection = bd.connection ()"
   ]
  },
  {
   "cell_type": "markdown",
   "metadata": {},
   "source": [
    "# Classe Categoria"
   ]
  },
  {
   "cell_type": "code",
   "execution_count": 52,
   "metadata": {},
   "outputs": [
    {
     "output_type": "error",
     "ename": "ProgrammingError",
     "evalue": "('42S01', \"[42S01] [Microsoft][ODBC Driver 17 for SQL Server][SQL Server]There is already an object named 'Categoria' in the database. (2714) (SQLExecDirectW)\")",
     "traceback": [
      "\u001b[0;31m---------------------------------------------------------------------------\u001b[0m",
      "\u001b[0;31mProgrammingError\u001b[0m                          Traceback (most recent call last)",
      "\u001b[0;32m<ipython-input-52-9e86fa7d9ab4>\u001b[0m in \u001b[0;36m<module>\u001b[0;34m\u001b[0m\n\u001b[0;32m----> 1\u001b[0;31m \u001b[0;32mclass\u001b[0m \u001b[0mCategoria\u001b[0m\u001b[0;34m:\u001b[0m\u001b[0;34m\u001b[0m\u001b[0;34m\u001b[0m\u001b[0m\n\u001b[0m\u001b[1;32m      2\u001b[0m     \u001b[0;32mdef\u001b[0m \u001b[0m__init__\u001b[0m\u001b[0;34m(\u001b[0m\u001b[0mself\u001b[0m\u001b[0;34m,\u001b[0m \u001b[0mestablishedConnection\u001b[0m\u001b[0;34m)\u001b[0m\u001b[0;34m:\u001b[0m\u001b[0;34m\u001b[0m\u001b[0;34m\u001b[0m\u001b[0m\n\u001b[1;32m      3\u001b[0m       \u001b[0mself\u001b[0m\u001b[0;34m.\u001b[0m\u001b[0mestablishedConnection\u001b[0m \u001b[0;34m=\u001b[0m \u001b[0mestablishedConnection\u001b[0m\u001b[0;34m\u001b[0m\u001b[0;34m\u001b[0m\u001b[0m\n\u001b[1;32m      4\u001b[0m \u001b[0;34m\u001b[0m\u001b[0m\n\u001b[1;32m      5\u001b[0m     \u001b[0;32mdef\u001b[0m \u001b[0mcriar\u001b[0m \u001b[0;34m(\u001b[0m\u001b[0mself\u001b[0m\u001b[0;34m)\u001b[0m\u001b[0;34m:\u001b[0m\u001b[0;34m\u001b[0m\u001b[0;34m\u001b[0m\u001b[0m\n",
      "\u001b[0;32m<ipython-input-52-9e86fa7d9ab4>\u001b[0m in \u001b[0;36mCategoria\u001b[0;34m()\u001b[0m\n\u001b[1;32m     16\u001b[0m \u001b[0;34m\u001b[0m\u001b[0m\n\u001b[1;32m     17\u001b[0m     \u001b[0mcategoria\u001b[0m \u001b[0;34m=\u001b[0m \u001b[0mCategoria\u001b[0m \u001b[0;34m(\u001b[0m\u001b[0mestablishedConnection\u001b[0m\u001b[0;34m)\u001b[0m\u001b[0;34m\u001b[0m\u001b[0;34m\u001b[0m\u001b[0m\n\u001b[0;32m---> 18\u001b[0;31m     \u001b[0mcategoria\u001b[0m\u001b[0;34m.\u001b[0m\u001b[0mcriar\u001b[0m \u001b[0;34m(\u001b[0m\u001b[0;34m)\u001b[0m\u001b[0;34m\u001b[0m\u001b[0;34m\u001b[0m\u001b[0m\n\u001b[0m",
      "\u001b[0;32m<ipython-input-25-9e86fa7d9ab4>\u001b[0m in \u001b[0;36mcriar\u001b[0;34m(self)\u001b[0m\n\u001b[1;32m     12\u001b[0m       '''\n\u001b[1;32m     13\u001b[0m       \u001b[0;32mwith\u001b[0m \u001b[0mself\u001b[0m\u001b[0;34m.\u001b[0m\u001b[0mestablishedConnection\u001b[0m\u001b[0;34m:\u001b[0m\u001b[0;34m\u001b[0m\u001b[0;34m\u001b[0m\u001b[0m\n\u001b[0;32m---> 14\u001b[0;31m         \u001b[0mself\u001b[0m\u001b[0;34m.\u001b[0m\u001b[0mestablishedConnection\u001b[0m\u001b[0;34m.\u001b[0m\u001b[0mexecute\u001b[0m \u001b[0;34m(\u001b[0m\u001b[0mddl\u001b[0m\u001b[0;34m)\u001b[0m\u001b[0;34m\u001b[0m\u001b[0;34m\u001b[0m\u001b[0m\n\u001b[0m\u001b[1;32m     15\u001b[0m \u001b[0;34m\u001b[0m\u001b[0m\n\u001b[1;32m     16\u001b[0m \u001b[0;34m\u001b[0m\u001b[0m\n",
      "\u001b[0;31mProgrammingError\u001b[0m: ('42S01', \"[42S01] [Microsoft][ODBC Driver 17 for SQL Server][SQL Server]There is already an object named 'Categoria' in the database. (2714) (SQLExecDirectW)\")"
     ]
    }
   ],
   "source": [
    "class Categoria:\n",
    "    def __init__(self, establishedConnection):\n",
    "      self.establishedConnection = establishedConnection\n",
    "\n",
    "    def criar (self):\n",
    "      ddl = '''\n",
    "          create table Categoria(\n",
    "            id int primary key identity (1,1),  \n",
    "            nome varchar (32),\n",
    "            descricao text\n",
    "        );\n",
    "      '''\n",
    "      with self.establishedConnection:\n",
    "        self.establishedConnection.execute (ddl)\n",
    "    \n",
    "    \n",
    "    categoria = Categoria (establishedConnection)\n",
    "    categoria.criar ()"
   ]
  },
  {
   "cell_type": "code",
   "execution_count": 56,
   "metadata": {},
   "outputs": [
    {
     "output_type": "error",
     "ename": "ProgrammingError",
     "evalue": "('42S01', \"[42S01] [Microsoft][ODBC Driver 17 for SQL Server][SQL Server]There is already an object named 'Vendedor' in the database. (2714) (SQLExecDirectW)\")",
     "traceback": [
      "\u001b[0;31m---------------------------------------------------------------------------\u001b[0m",
      "\u001b[0;31mProgrammingError\u001b[0m                          Traceback (most recent call last)",
      "\u001b[0;32m<ipython-input-56-feeb556e7de6>\u001b[0m in \u001b[0;36m<module>\u001b[0;34m\u001b[0m\n\u001b[1;32m     18\u001b[0m \u001b[0;34m\u001b[0m\u001b[0m\n\u001b[1;32m     19\u001b[0m \u001b[0mvendedor\u001b[0m \u001b[0;34m=\u001b[0m \u001b[0mVendedor\u001b[0m \u001b[0;34m(\u001b[0m\u001b[0mestablishedConnection\u001b[0m\u001b[0;34m)\u001b[0m\u001b[0;34m\u001b[0m\u001b[0;34m\u001b[0m\u001b[0m\n\u001b[0;32m---> 20\u001b[0;31m \u001b[0mvendedor\u001b[0m\u001b[0;34m.\u001b[0m\u001b[0mcriar\u001b[0m \u001b[0;34m(\u001b[0m\u001b[0;34m)\u001b[0m\u001b[0;34m\u001b[0m\u001b[0;34m\u001b[0m\u001b[0m\n\u001b[0m",
      "\u001b[0;32m<ipython-input-56-feeb556e7de6>\u001b[0m in \u001b[0;36mcriar\u001b[0;34m(self)\u001b[0m\n\u001b[1;32m     14\u001b[0m       '''\n\u001b[1;32m     15\u001b[0m       \u001b[0;32mwith\u001b[0m \u001b[0mself\u001b[0m\u001b[0;34m.\u001b[0m\u001b[0mestablishedConnection\u001b[0m\u001b[0;34m:\u001b[0m\u001b[0;34m\u001b[0m\u001b[0;34m\u001b[0m\u001b[0m\n\u001b[0;32m---> 16\u001b[0;31m         \u001b[0mself\u001b[0m\u001b[0;34m.\u001b[0m\u001b[0mestablishedConnection\u001b[0m\u001b[0;34m.\u001b[0m\u001b[0mexecute\u001b[0m \u001b[0;34m(\u001b[0m\u001b[0mddl\u001b[0m\u001b[0;34m)\u001b[0m\u001b[0;34m\u001b[0m\u001b[0;34m\u001b[0m\u001b[0m\n\u001b[0m\u001b[1;32m     17\u001b[0m \u001b[0;34m\u001b[0m\u001b[0m\n\u001b[1;32m     18\u001b[0m \u001b[0;34m\u001b[0m\u001b[0m\n",
      "\u001b[0;31mProgrammingError\u001b[0m: ('42S01', \"[42S01] [Microsoft][ODBC Driver 17 for SQL Server][SQL Server]There is already an object named 'Vendedor' in the database. (2714) (SQLExecDirectW)\")"
     ]
    }
   ],
   "source": [
    "class Vendedor:\n",
    "    def __init__ (self, establishedConnection):\n",
    "      self.establishedConnection = establishedConnection\n",
    "\n",
    "    def criar (self):\n",
    "      ddl = '''\n",
    "          create table Vendedor (\n",
    "            cpf varchar (14) primary key,  \n",
    "            nome varchar (128),\n",
    "            email varchar (128),\n",
    "            telefone varchar (20),\n",
    "            endereço varchar (256),\n",
    "        );\n",
    "      '''\n",
    "      with self.establishedConnection:\n",
    "        self.establishedConnection.execute (ddl)\n",
    "    \n",
    "    \n",
    "vendedor = Vendedor (establishedConnection)\n",
    "vendedor.criar ()"
   ]
  },
  {
   "cell_type": "code",
   "execution_count": 57,
   "metadata": {},
   "outputs": [],
   "source": [
    "class Produto:\n",
    "    def __init__ (self, establishedConnection):\n",
    "      self.establishedConnection = establishedConnection\n",
    "\n",
    "    def criar (self):\n",
    "      ddl = '''\n",
    "          create table Produto (\n",
    "            id int primary key identity (1, 1),  \n",
    "            nome varchar (128),\n",
    "            descricao text,\n",
    "        );\n",
    "      '''\n",
    "      with self.establishedConnection:\n",
    "        self.establishedConnection.execute (ddl)\n",
    "    \n",
    "    \n",
    "produto = Produto (establishedConnection)\n",
    "produto.criar ()"
   ]
  },
  {
   "cell_type": "code",
   "execution_count": 87,
   "metadata": {},
   "outputs": [],
   "source": [
    "class VendedorProduto:\n",
    "    def __init__ (self, establishedConnection):\n",
    "      self.establishedConnection = establishedConnection\n",
    "\n",
    "    def criar (self):\n",
    "      ddl = '''\n",
    "          create table VendedorProduto (\n",
    "            id int primary key identity (1, 1),  \n",
    "            nome varchar (128),\n",
    "            descricao text,\n",
    "        );\n",
    "      '''\n",
    "      with self.establishedConnection:\n",
    "         self.establishedConnection.execute (ddl)\n",
    "    \n",
    "    def ver (self):\n",
    "       cursor = establishedConnection.cursor()\n",
    "       print(cursor)\n",
    "       cursor.execute('select * from VendedorProduto')\n",
    "       for row in cursor:\n",
    "            print (row)\n",
    "    \n",
    "    \n",
    "vendedorProduto = VendedorProduto (establishedConnection)\n",
    "vendedorProduto.ver ()"
   ]
  },
  {
   "cell_type": "code",
   "execution_count": null,
   "metadata": {},
   "outputs": [],
   "source": []
  }
 ]
}